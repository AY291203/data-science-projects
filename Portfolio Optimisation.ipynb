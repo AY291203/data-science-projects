{
 "cells": [
  {
   "cell_type": "code",
   "execution_count": 60,
   "id": "8b46b478-fc9a-4e1e-99dd-d3c955ff6ad0",
   "metadata": {},
   "outputs": [],
   "source": [
    "import numpy as np\n",
    "import pandas as pd\n",
    "from pandas_datareader import data\n",
    "import matplotlib.pyplot as plt\n"
   ]
  },
  {
   "cell_type": "code",
   "execution_count": 61,
   "id": "d018d2ec-e430-49dd-9a5b-b5ea55ead2a1",
   "metadata": {},
   "outputs": [
    {
     "name": "stdout",
     "output_type": "stream",
     "text": [
      "0.15590713725981936\n"
     ]
    }
   ],
   "source": [
    "#get data\n",
    "df = data.DataReader(['PCY', 'IECIX','TRECX','0P0000KSPA.L','0P0001HIXD.L','UIQI.DE','DAPP','ERTH','QGMIX','SCD.JO'], 'yahoo', start='2021/04/16', end='2022/09/03')\n",
    "df = df['Adj Close']\n",
    "df = df.dropna()\n",
    "\n",
    "\n",
    "#Covariance\n",
    "cov_matrix = df.pct_change().apply(lambda x: np.log(1+x)).cov()\n",
    "\n",
    "#correlation\n",
    "corr_matrix = df.pct_change().apply(lambda x: np.log(1+x)).corr()\n",
    "\n",
    "\n",
    "# resample to get yearly average expected return for individual assets , here use arithmetic mean\n",
    "#ind_er = df.resample('Y').last().pct_change().mean()\n",
    "ind_er = pd.Series(np.array([0.052,0.059,0.048,0.046,0.067,0.07,0.041,0.0525,0.0591,0.0993],float),index=['PCY', 'IECIX','TRECX','0P0000KSPA.L','0P0001HIXD.L','UIQI.DE','DAPP','ERTH','QGMIX','SCD.JO'])\n",
    "\n",
    "\n",
    "#get annual std\n",
    "\n",
    "ann_sd = df.pct_change().apply(lambda x: np.log(1+x)).std().apply(lambda x: x*np.sqrt(250))\n",
    "\n",
    "# get summarization table for individual annual expected return and expected std\n",
    "\n",
    "assets = pd.concat([ind_er, ann_sd], axis=1) # Creating a table for visualising returns and volatility of assets\n",
    "assets.columns = ['Returns', 'Volatility']\n",
    "\n",
    "#getting the possibilities of portfolios with random function\n",
    "\n",
    "p_ret = [] # Define an empty array for portfolio returns\n",
    "p_vol = [] # Define an empty array for portfolio volatility\n",
    "p_weights = [] # Define an empty array for asset weights\n",
    "\n",
    "num_assets = len(df.columns)\n",
    "num_portfolios = 50000 # number of simulation\n",
    "\n",
    "for portfolio in range(num_portfolios):\n",
    "    weights = np.random.random(num_assets) # return number between 0-1\n",
    "    weights = weights/np.sum(weights)\n",
    "    p_weights.append(weights)\n",
    "    returns = np.dot(weights, ind_er) # Returns are the product of individual expected returns of asset and its \n",
    "                                      # weights \n",
    "    p_ret.append(returns)\n",
    "    var = cov_matrix.mul(weights, axis=0).mul(weights, axis=1).sum().sum()# Portfolio Variance\n",
    "    sd = np.sqrt(var) # Daily standard deviation\n",
    "    ann_sd = sd*np.sqrt(250) # Annual standard deviation = volatility\n",
    "    p_vol.append(ann_sd)\n",
    "    \n",
    "data = {'Returns':p_ret, 'Volatility':p_vol}\n",
    "\n",
    "for counter, symbol in enumerate(df.columns.tolist()):\n",
    "    #print(counter, symbol)\n",
    "    data[symbol+' weight'] = [w[counter] for w in p_weights] \n",
    "\n",
    "portfolios  = pd.DataFrame(data)\n",
    "\n",
    "\n",
    "# get efficiency frontier\n",
    "\n",
    "\n",
    "# get the combination with maximum sharpe ratio\n",
    "\n",
    "rf = 0.0225\n",
    "optimal_risky_port = portfolios.iloc[((portfolios['Returns']-rf)/portfolios['Volatility']).idxmax()]\n",
    "plt.subplots(figsize=(10, 10))\n",
    "plt.scatter(portfolios['Volatility'], portfolios['Returns'],marker='o', s=10, alpha=0.3)\n",
    "plt.scatter(optimal_risky_port[1], optimal_risky_port[0], color='g', marker='*', s=100)\n",
    "\n",
    "print(optimal_risky_port)\n",
    "\n",
    "\n"
   ]
  }
 ],
 "metadata": {
  "kernelspec": {
   "display_name": "datasci",
   "language": "python",
   "name": "datasci"
  },
  "language_info": {
   "codemirror_mode": {
    "name": "ipython",
    "version": 3
   },
   "file_extension": ".py",
   "mimetype": "text/x-python",
   "name": "python",
   "nbconvert_exporter": "python",
   "pygments_lexer": "ipython3",
   "version": "3.9.12"
  }
 },
 "nbformat": 4,
 "nbformat_minor": 5
}
